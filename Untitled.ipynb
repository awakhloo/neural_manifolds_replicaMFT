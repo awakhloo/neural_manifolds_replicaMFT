{
 "cells": [
  {
   "cell_type": "code",
   "execution_count": 1,
   "id": "6af5fa95-3398-4b18-8b4b-5c9871f13c42",
   "metadata": {},
   "outputs": [],
   "source": [
    "import mftma"
   ]
  },
  {
   "cell_type": "code",
   "execution_count": 7,
   "id": "e8cbfbc7-ef43-4758-9bd1-d5da8d1156dc",
   "metadata": {},
   "outputs": [],
   "source": [
    "import numpy as np\n",
    "import mftma.manifold_analysis_correlation  as cc"
   ]
  },
  {
   "cell_type": "code",
   "execution_count": 4,
   "id": "61fe7200-679e-4771-b38e-feb782b7b832",
   "metadata": {},
   "outputs": [],
   "source": [
    "np.random.seed(0)\n",
    "X = [np.random.randn(500, 50) for i in range(10)] "
   ]
  },
  {
   "cell_type": "code",
   "execution_count": 13,
   "id": "c0e65013-8d87-4a1a-8c14-b73815ffc0e1",
   "metadata": {},
   "outputs": [],
   "source": [
    "from importlib import reload\n",
    "reload(cc)\n",
    "kappa = 0\n",
    "n_t = 30\n",
    "\n",
    "capacity_all, radius_all, dimension_all, center_correlation, K = cc.manifold_analysis_corr(X, kappa, n_t)"
   ]
  },
  {
   "cell_type": "code",
   "execution_count": 14,
   "id": "2962ea57-e41d-4b9a-b3ad-4644dc3dc7da",
   "metadata": {},
   "outputs": [],
   "source": [
    "avg_capacity = 1/np.mean(1/capacity_all)\n",
    "avg_radius = np.mean(radius_all)\n",
    "avg_dimension = np.mean(dimension_all)"
   ]
  },
  {
   "cell_type": "code",
   "execution_count": 15,
   "id": "b3ce2014-795f-4cf1-a3ba-a9e43276b4a5",
   "metadata": {},
   "outputs": [
    {
     "name": "stdout",
     "output_type": "stream",
     "text": [
      "0.037256151124469214 1.5262421597292744 37.335371756152064\n"
     ]
    }
   ],
   "source": [
    "print(avg_capacity, avg_radius, avg_dimension)"
   ]
  },
  {
   "cell_type": "code",
   "execution_count": 16,
   "id": "4895ea42-93ec-4a93-8331-dd6fc16e7cd1",
   "metadata": {},
   "outputs": [],
   "source": [
    "import sys\n",
    "sys.path.append('/Users/albertwakhloo/Documents/GitHub/block_projection')\n",
    "import manifold_simcap_analysis as nunm"
   ]
  },
  {
   "cell_type": "code",
   "execution_count": 17,
   "id": "c707a0cf-df20-4c85-8fa5-0431012f01d8",
   "metadata": {},
   "outputs": [
    {
     "name": "stderr",
     "output_type": "stream",
     "text": [
      "/Users/albertwakhloo/Documents/GitHub/block_projection/manifold_simcap_analysis.py:196: UserWarning: Could not find solution\n",
      "  warnings.warn('Could not find solution')\n"
     ]
    }
   ],
   "source": [
    "out = nunm.manifold_simcap_analysis(X, 10) "
   ]
  },
  {
   "cell_type": "code",
   "execution_count": 18,
   "id": "fc9bb80f-3b14-4c8e-891c-696045cce4de",
   "metadata": {},
   "outputs": [
    {
     "data": {
      "text/plain": [
       "(0.0398406374501992, 10, 251.0, [2, 500], [0.0, 1.0])"
      ]
     },
     "execution_count": 18,
     "metadata": {},
     "output_type": "execute_result"
    }
   ],
   "source": [
    "out"
   ]
  },
  {
   "cell_type": "code",
   "execution_count": null,
   "id": "e4fffa09-19da-42d4-855b-9b72e7b12bdc",
   "metadata": {},
   "outputs": [],
   "source": []
  }
 ],
 "metadata": {
  "kernelspec": {
   "display_name": "Python 3 (ipykernel)",
   "language": "python",
   "name": "python3"
  },
  "language_info": {
   "codemirror_mode": {
    "name": "ipython",
    "version": 3
   },
   "file_extension": ".py",
   "mimetype": "text/x-python",
   "name": "python",
   "nbconvert_exporter": "python",
   "pygments_lexer": "ipython3",
   "version": "3.9.13"
  }
 },
 "nbformat": 4,
 "nbformat_minor": 5
}
